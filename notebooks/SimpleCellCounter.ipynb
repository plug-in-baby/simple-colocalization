{
 "cells": [
  {
   "cell_type": "markdown",
   "metadata": {},
   "source": [
    "# Benchmarking SimpleColocalization\n",
    "\n",
    "https://github.com/plug-in-baby/simple-colocalization\n",
    "\n",
    "\n",
    "---\n",
    "\n",
    "## Contents\n",
    "\n",
    "1. Overview\n",
    "    - 1.1 The Dataset\n",
    "    - 1.2 Methodology\n",
    "    - 1.3 Observations\n",
    "2. Exploratory Data Analysis\n",
    "    - 2.1 Anomaly Detection\n",
    "3. Performance Analysis\n",
    "4. Time Efficiency Analysis\n",
    "5. Conclusion\n",
    "\n",
    "---\n",
    "\n",
    "## 1. Overview\n",
    "\n",
    "This notebook analyses the performance of the SimpleColocalization and ITCN ImageJ plugins against manual counts.\n",
    "\n",
    "### 1.1 The Dataset\n",
    "\n",
    "This analysis is done against nine images of [NeuN](https://en.wikipedia.org/wiki/NeuN) stained brain tissue, comprising the first three series of image sets`22.lif`, `33.lif`, `49.lif`. Unfortunately the dataset cannot be made public as this time, and as such this notebook does not contain any sample images.\n",
    "\n",
    "[ITCN](https://imagej.nih.gov/ij/plugins/itcn.html) is an existing plugin for ImageJ for counting cells in an image. It was developed at the [Center for Bio-image Informatics](https://bioimage.ucsb.edu/) at UC Santa Barbara.\n",
    "\n",
    "\n",
    "[SimpleColocalization](https://github.com/plug-in-baby/simple-colocalization) is a novel plugin developed by students at Imperial College London in collaboration with researchers at [Cambridge Neuroscience](https://www.neuroscience.cam.ac.uk/).\n",
    "\n",
    "One important distinction in the functionalities of these plugins is that SimpleColocalization not only counts cells but also segments each cell. This enables the calculation of cell colocalization, which is (as you may have guessed from the name) another feature of the plugin.\n",
    "\n",
    "---\n",
    "\n",
    "### 1.2 Methodology\n",
    "\n",
    "Manual counts were collected by all six members of the team (non-experts) in the ImageJ2 software, and timed in minutes. Counts were collected asynchronously over the course of several days. The exact method of counting varied as some members used touchscreen laptops, while others used a touchpad or conventional mouse. In some particularly dark images (mainly those contained in `33.lif`) it was necessary to perform some contrast enhancement so that individual cells could be seen. However, the plugins were run on the raw images.\n",
    "\n",
    "I did not perform any manual preprocessing of the images. The plugins were run directly on the input images. Each plugin was run with appropriate input parameters which were documented (but not repeated here). The counted images have also been saved.\n",
    "\n",
    "---\n",
    "\n",
    "### 1.3 Observations\n",
    "\n",
    "When collecting the results, I noticed some observations with respect to the overall user experience of each plugin.\n",
    "\n",
    "I first noticed that the ITCN width parameter is very sensitive. It greatly affects the count value, and it often took multiple attempts to tune the parameter to such a value that I was satisfied with the accuracy of the count. \n",
    "\n",
    "What became apparent over testing is that ITCN runs significantly slower than SimpleColocalization, taking about 10-15 seconds for each image compared to ~1 second for SimpleColocalization. Moreover, the entire ImageJ applicatioin freezes while the plugin is running - blocking any other functionality that the user may want to run in parallel.\n",
    "\n",
    "---\n",
    "\n",
    "## 2. Exploratory Data Analysis\n",
    "\n",
    "This section aims to expose any properties of interest inherent to the dataset."
   ]
  },
  {
   "cell_type": "code",
   "execution_count": null,
   "metadata": {},
   "outputs": [],
   "source": [
    "\"\"\"\n",
    "Import the necessary packages.\n",
    "\"\"\"\n",
    "%matplotlib inline\n",
    "from IPython.display import HTML, display\n",
    "\n",
    "import pandas as pd\n",
    "import numpy as np\n",
    "import matplotlib.pyplot as plt\n",
    "import scipy.stats as stats\n",
    "import seaborn as sns\n",
    "sns.set(rc={'figure.figsize':(11,11)})"
   ]
  },
  {
   "cell_type": "code",
   "execution_count": null,
   "metadata": {},
   "outputs": [],
   "source": [
    "\"\"\"\n",
    "Parse input data into pandas DataFrames.\n",
    "\"\"\"\n",
    "df = pd.read_csv(\"cell_counts.csv\", skiprows=2, header=0)\n",
    "\n",
    "# Set index and rename columns for readability.\n",
    "df[\"Image Set\"] = df[\"Image Set\"].fillna(method='ffill').str.replace(\".lif\", \"\").astype(int)\n",
    "df.set_index(keys=[\"Image Set\", \"Series\"], inplace=True)\n",
    "df.rename(mapper={\"SC (pre-dip lining)\": \"SimpleColocalization\", \n",
    "                  \"Count\": \"Student 1\", \n",
    "                  \"Count.1\": \"Student 2\", \n",
    "                  \"Count.2\": \"Student 3\", \n",
    "                  \"Count.3\": \"Student 4\", \n",
    "                  \"Count.4\": \"Student 5\", \n",
    "                  \"Count.5\": \"Student 6\", \n",
    "                  \"Time\": \"Time 1\", \n",
    "                  \"Time.1\": \"Time 2\", \n",
    "                  \"Time.2\": \"Time 3\", \n",
    "                  \"Time.3\": \"Time 4\",\n",
    "                  \"Time.4\": \"Time 5\", \n",
    "                  \"Time.5\": \"Time 6\"}, inplace=True, axis=1)\n",
    "\n",
    "# Counts obtained by manually counting each image.\n",
    "manual_counts = df[[\"Student 1\", \"Student 2\", \"Student 3\", \"Student 4\", \"Student 5\", \"Student 6\"]]\n",
    "\n",
    "# Counts obtained by running ITCN with appropriate parameters.\n",
    "itcn_counts = df[[\"ITCN\"]]\n",
    "\n",
    "# Counts obtained by running SimpleColocalization with appropriate parameters.\n",
    "sc_counts = df[[\"SimpleColocalization\"]]\n",
    "\n",
    "all_counts = pd.concat([manual_counts, itcn_counts, sc_counts], axis=1)\n",
    "\n",
    "# Manual count timings.\n",
    "times = df[[\"Time 1\", \"Time 2\", \"Time 3\", \"Time 4\", \"Time 5\", \"Time 6\"]]\n",
    "\n",
    "display(all_counts)"
   ]
  },
  {
   "cell_type": "markdown",
   "metadata": {},
   "source": [
    "### 2.1 Anomaly Detection\n",
    "\n",
    "In order to ensure the integrity of the collected data, we must identify outliers. \n",
    "\n",
    "From looking at the boxplot, we can see that the range of manual counts for each image is rather large. However, we can confirm that the data are roughly normally distributed by looking at the Q-Q plots for each image."
   ]
  },
  {
   "cell_type": "code",
   "execution_count": null,
   "metadata": {},
   "outputs": [],
   "source": [
    "\"\"\"\n",
    "Plot boxplots to show the range of the manual count for each image.\n",
    "\"\"\"\n",
    "\n",
    "plt.boxplot(manual_counts, labels=manual_counts.index)\n",
    "plt.title(\"Manual Counts\")\n",
    "plt.xlabel(\"(Image Set, Series)\")\n",
    "plt.ylabel(\"Count\")\n",
    "plt.show()"
   ]
  },
  {
   "cell_type": "code",
   "execution_count": null,
   "metadata": {},
   "outputs": [],
   "source": [
    "fig, axes = plt.subplots(nrows=3, ncols=3, figsize=(10, 6))\n",
    "\n",
    "for i in range(len(manual_counts.index)):\n",
    "    ax = axes[i // 3, i % 3]\n",
    "    stats.probplot(manual_counts.iloc[i], plot=ax)\n",
    "    ax.set_title(f\"Probability Plot, {manual_counts.index[i]}\")\n",
    "    \n",
    "fig.suptitle(\"Q-Q Plots of Manual Counts\", size=16)\n",
    "fig.tight_layout()\n",
    "fig.subplots_adjust(top=0.88)\n",
    "plt.show()"
   ]
  },
  {
   "cell_type": "markdown",
   "metadata": {},
   "source": [
    "Since we have a low dimensional feature space with an underlying distribution that can be assumed to be parametric, we can use Z-score to identify outliers.\n",
    "\n",
    "Simply, Z-score is a metric that indicates how many standard deviations a data point is from the sample mean. We will discard any data point which have a Z-score greater than 2.5. "
   ]
  },
  {
   "cell_type": "code",
   "execution_count": null,
   "metadata": {},
   "outputs": [],
   "source": [
    "zscores = pd.DataFrame(stats.zscore(manual_counts, axis=1), index=manual_counts.index, columns=manual_counts.columns)\n",
    "\n",
    "ax = sns.heatmap(zscores, cmap=sns.diverging_palette(240, 10, n=9), annot=True, fmt=\".2\")\n",
    "ax.set_aspect(\"equal\")\n",
    "\n",
    "# y limit workaround for matplotlib - seaborn regression. Details: https://github.com/matplotlib/matplotlib/issues/14675\n",
    "bottom, top = ax.get_ylim()\n",
    "ax.set_ylim(bottom + 0.5, top - 0.5)\n",
    "\n",
    "plt.show()"
   ]
  },
  {
   "cell_type": "markdown",
   "metadata": {},
   "source": [
    "Fortunately, we have no data points that exceed this threshold, so there is no need to discard any values.\n",
    "\n"
   ]
  },
  {
   "cell_type": "code",
   "execution_count": null,
   "metadata": {},
   "outputs": [],
   "source": [
    "mean_manual_counts = pd.DataFrame(manual_counts.mean(axis=1), columns=[\"Mean Manual Count\"])\n",
    "means = pd.concat([mean_manual_counts, itcn_counts, sc_counts], axis=1)\n",
    "\n",
    "display(means)"
   ]
  },
  {
   "cell_type": "markdown",
   "metadata": {},
   "source": [
    "Plotting individual manual counts alongside those obtained by each plugin gives an initial sense for how the automated methods fare. Manual counts are plotted in gray, with SimpleColocalization in orange and ITCN in blue."
   ]
  },
  {
   "cell_type": "code",
   "execution_count": null,
   "metadata": {},
   "outputs": [],
   "source": [
    "fig, ax = plt.subplots(figsize=(12, 8))\n",
    "fig.canvas.draw()\n",
    "\n",
    "\n",
    "for i, col in enumerate(manual_counts.columns):\n",
    "    l = len(manual_counts.columns) / 2\n",
    "    xs = [x for x in range(9)]\n",
    "    ys = manual_counts[col]\n",
    "    plt.plot(xs, ys, marker=\"o\", linestyle=\"None\", color=\"gray\", alpha=0.7)\n",
    "\n",
    "xs = list(range(9))\n",
    "\n",
    "plt.plot(xs, all_counts[\"SimpleColocalization\"], marker=\"_\", markersize=30, mew=3, linestyle=\"None\", label=\"SimpleColocalization\", color=SIMPLECOLOCALIZATION_COLOR)\n",
    "plt.plot(xs, all_counts[\"ITCN\"], marker=\"_\", markersize=30, mew=3, linestyle=\"None\", label=\"ITCN\", color=ITCN_COLOR)\n",
    "\n",
    "ax.set_xticks(xs)\n",
    "ax.set_xticklabels(manual_counts.index)\n",
    "ax.legend(loc=\"lower right\", handlelength=3, borderpad=1)\n",
    "ax.set_xlabel(\"(Image Set, Series)\")\n",
    "ax.set_ylabel(\"Count\")\n",
    "plt.show()"
   ]
  },
  {
   "cell_type": "markdown",
   "metadata": {},
   "source": [
    "## 3. Performance Analysis\n",
    "\n",
    "We can perform linear regression to measure the performance of the two plugins.\n",
    "\n",
    "If a plugin worked perfectly, we would expect the computed counts to match the manual counts exactly, and for the data points to lie on a straight line $y=x$. Therefore, we can measure the deviation from this line to assess accuracy.\n",
    "\n",
    "Visually, we can see the differences between the two models by plotting them, and comparing them and their errors against a reference line."
   ]
  },
  {
   "cell_type": "code",
   "execution_count": null,
   "metadata": {},
   "outputs": [],
   "source": [
    "from matplotlib import cm\n",
    "\n",
    "ITCN_COLOR = \"#1f77b4\"\n",
    "SIMPLECOLOCALIZATION_COLOR = \"#ff7f0e\"\n",
    "\n",
    "def plot_and_annotate(col1: pd.Series, col2: pd.Series, ax, title=None, color=None):\n",
    "    \"\"\"\n",
    "    Plots two columns of a pandas DataFrame on a scatter graph, and annotates \n",
    "    each point with the index of the point.\n",
    "    \n",
    "    Pre: col1 and col2 must have the same index.\n",
    "    \"\"\"\n",
    "    sns.regplot(col1, col2, ax=ax, color=color)\n",
    "    for index, x in col1.iteritems():\n",
    "        y = col2[index]\n",
    "        ax.annotate(s=index, xy=(x, y), xytext=(10,-5), textcoords=\"offset points\")\n",
    "    \n",
    "    if title is not None:\n",
    "        ax.set_title(title)\n",
    "\n",
    "fig, axes = plt.subplots(nrows=1, ncols=2, figsize=(18, 8))\n",
    "\n",
    "for ax in axes:\n",
    "    ax.set_xlabel(\"Manual Counts\")\n",
    "    ax.set_ylabel(\"Automated Counts\")\n",
    "\n",
    "    ax.set_xlim([550, 1300])\n",
    "    ax.set_ylim([550, 1300])\n",
    "\n",
    "    # Reference line\n",
    "    ax.plot([550,1300],[550,1300], color=\"gray\", linestyle=\":\");\n",
    "    \n",
    "    \n",
    "plot_and_annotate(means[\"Mean Manual Count\"], means[\"SimpleColocalization\"], axes[0], title=\"SimpleColocalization\", color=SIMPLECOLOCALIZATION_COLOR)\n",
    "plot_and_annotate(means[\"Mean Manual Count\"], means[\"ITCN\"], axes[1], title=\"ITCN\", color=ITCN_COLOR)"
   ]
  },
  {
   "cell_type": "markdown",
   "metadata": {},
   "source": [
    "Immediately, we can see that Simplecolocalization has a better fit to the reference line, and has a consistently smaller error. In particular, ITCN gives wildly inaccurate results for images (22, 1) and (33, 1). SimpleColocalization performs exceptionally well for (22, 1)\n",
    "\n",
    "Now, to analyse these numerically we first examine whether or not the difference between the two linear regression models is statistically significant."
   ]
  },
  {
   "cell_type": "markdown",
   "metadata": {},
   "source": [
    "First we test that the difference in the performance of SimpleColocalization and ITCN is statistically significant. This can be done by performing a [t-test for the regression](http://geog.uoregon.edu/GeogR/topics/interpstats.pdf) of SimpleColocalization and ITCN.\n",
    "\n",
    "The regression line can be expressed as \n",
    "$$Y = \\beta_0 + \\beta_1 X $$ \n",
    "where $B_0$ is a constant and $B_1$ is the slope. From this, we can formulate the hypotheses\n",
    "$$H_0: B_1 = 0 \\\\ H_1: B_1 \\not= 0$$\n",
    "The null hypothesis states that the slope is equal to zero, and the alternative hypothesis states that the slope is not equal to zero. We take the significance level $\\alpha = 0.05$."
   ]
  },
  {
   "cell_type": "code",
   "execution_count": null,
   "metadata": {},
   "outputs": [],
   "source": [
    "fig, ax = plt.subplots()\n",
    "\n",
    "ax.set_xlim([500, 1200])\n",
    "ax.set_ylim([500, 1200])\n",
    "\n",
    "plot_and_annotate(means[\"ITCN\"], means[\"SimpleColocalization\"], ax)\n",
    "\n",
    "slope, intercept, r_value, p_value, std_err = stats.linregress(means[\"ITCN\"], means[\"SimpleColocalization\"])\n",
    "\n",
    "ax.plot([550,1200],[550,1200], color=\"gray\", linestyle=\":\")\n",
    "plt.show()\n",
    "\n",
    "display(HTML(f\"<table><tr><td>p-value:</td><td>{p_value}</td></tr></table>\"))"
   ]
  },
  {
   "cell_type": "markdown",
   "metadata": {},
   "source": [
    "Since $p > 0.05$ we do not have enough evidence at the $5\\%$ significance level to reject the null hypothesis. Hence, we can say that there is a statistically significant difference between the performances of SimpleColocalization and ITCN.\n",
    "\n",
    "Note that this is equal to the p-value for the F-statistic for a single variable."
   ]
  },
  {
   "cell_type": "code",
   "execution_count": null,
   "metadata": {},
   "outputs": [],
   "source": [
    "# Seaborn does not provide a way to get the regression parameters out, so we recompute it here.\n",
    "\n",
    "sc_lm = stats.linregress(means[\"Mean Manual Count\"], means[\"SimpleColocalization\"])\n",
    "itcn_lm = stats.linregress(means[\"Mean Manual Count\"], means[\"ITCN\"])\n",
    "\n",
    "display(HTML(\n",
    "    f\"\"\"<table>\n",
    "            <tr>\n",
    "                <th></th>\n",
    "                <th>Regression</th>\n",
    "                <th>Standard Error</th>\n",
    "                <th>p-value</th>\n",
    "                <th>MSE</th>\n",
    "            </tr>\n",
    "            <tr>\n",
    "                <td>SimpleColocalization</td>\n",
    "                <td>$$y = {round(sc_lm.slope, 3)}x + {round(sc_lm.intercept, 3)}$$</td>\n",
    "                <td>$${round(sc_lm.stderr, 3)}$$</td>\n",
    "                <td>$${round(sc_lm.pvalue, 5)}$$</td>\n",
    "            </tr>\n",
    "            <tr>\n",
    "                <td>ITCN</td>\n",
    "                <td>$$y = {round(itcn_lm.slope, 3)}x + {round(itcn_lm.intercept, 3)}$$</td>\n",
    "                <td>$${round(itcn_lm.stderr, 3)}$$</td>\n",
    "                <td>$${round(itcn_lm.pvalue, 5)}$$</td>\n",
    "            </tr>\n",
    "        </table>\"\"\"\n",
    "))"
   ]
  },
  {
   "cell_type": "markdown",
   "metadata": {},
   "source": [
    "From the p-values of each model, we can see that they are both statistically signficant in their relationship to the manual counts - and hence the number of cells in each image. To examine the magnitude of the difference, we can turn to looking at the regression coefficents and Mean Squared Error. SimpleColocalization has values for the the coefficients of the linear regression that are closer to $y=x$, and the standard error is also smaller. This suggests that SimpleColocalization gives count values that are closer to those obtained by manual counting."
   ]
  },
  {
   "cell_type": "markdown",
   "metadata": {},
   "source": [
    "## 4. Time Efficiency Analysis\n",
    "\n",
    "An important aspect to the usability and convenience of using an ImageJ plugin is the time it takes to run. Cell counting is a labour-intensive and tedious process, and reducing this time is one of our core goals.\n",
    "\n",
    "By plotting the time to take manual counts, we can see that it took as long as 20 minutes to count a single image. ITCN runs in less than 15 seconds, and SimpleColocalization in under a single second, opening the door to processing large batches of images in a short amount of time.\n",
    "\n",
    "In the box plot, the rectangle represents the second and third quartiles, the middle line is the median, and the whiskers show 1.5 IQR. Outlier points are plotted individually. "
   ]
  },
  {
   "cell_type": "code",
   "execution_count": null,
   "metadata": {},
   "outputs": [],
   "source": [
    "times.T.plot(kind=\"box\", figsize=(10, 10))\n",
    "\n",
    "# 1 second.\n",
    "plt.axhline(1/60, label=\"SimpleColocalization\", color=SIMPLECOLOCALIZATION_COLOR)\n",
    "\n",
    "# 15 seconds.\n",
    "plt.axhline(15/60, label=\"ITCN\", color=ITCN_COLOR)\n",
    "plt.legend(loc=\"upper right\")\n",
    "plt.ylim(0)\n",
    "plt.xlabel(\"(Image Set, Series)\")\n",
    "plt.ylabel(\"Time (m)\");"
   ]
  },
  {
   "cell_type": "markdown",
   "metadata": {},
   "source": [
    "## 5. Conclusion\n",
    "\n",
    "From the above analysis we can conclude that SimpleColocalization performs better, on average, than ITCN at producing an accurate cell counts in these images of neural tissue. Of course, we cannot assess how accurately each plugin identifies the location of each cell, and this would involve a more sophisticated analysis. \n",
    "\n",
    "We are actively working on improving the perfomance and usability of the plugin and there is no doubt still much more to be done here. Our roadmap includes improving the accuracy of cell segmentation using a dip-lining technique, and automatically calculating cell colocalization."
   ]
  }
 ],
 "metadata": {
  "kernelspec": {
   "display_name": "Python 3",
   "language": "python",
   "name": "python3"
  },
  "language_info": {
   "codemirror_mode": {
    "name": "ipython",
    "version": 3
   },
   "file_extension": ".py",
   "mimetype": "text/x-python",
   "name": "python",
   "nbconvert_exporter": "python",
   "pygments_lexer": "ipython3",
   "version": "3.7.4"
  }
 },
 "nbformat": 4,
 "nbformat_minor": 4
}
